{
 "cells": [
  {
   "cell_type": "code",
   "execution_count": 1,
   "metadata": {
    "_cell_guid": "b1076dfc-b9ad-4769-8c92-a6c4dae69d19",
    "_uuid": "8f2839f25d086af736a60e9eeb907d3b93b6e0e5",
    "execution": {
     "iopub.execute_input": "2021-05-20T19:51:00.953069Z",
     "iopub.status.busy": "2021-05-20T19:51:00.952389Z",
     "iopub.status.idle": "2021-05-20T19:51:00.971725Z",
     "shell.execute_reply": "2021-05-20T19:51:00.970375Z",
     "shell.execute_reply.started": "2021-05-20T19:51:00.952943Z"
    }
   },
   "outputs": [
    {
     "name": "stdout",
     "output_type": "stream",
     "text": [
      "/kaggle/input/twitter-sent-with-data/INTC_twitter_refined.csv\n",
      "/kaggle/input/twitter-sent-with-data/MSFT_twitter_refined.csv\n",
      "/kaggle/input/twitter-sent-with-data/IBM_twitter_refined.csv\n",
      "/kaggle/input/twitter-sent-with-data/GS_twitter_refined.csv\n",
      "/kaggle/input/twitter-sent-with-data/BA_twitter_refined.csv\n",
      "/kaggle/input/twitter-sent-with-data/WMT_twitter_refined.csv\n",
      "/kaggle/input/twitter-sent-with-data/CSCO_twitter_refined.csv\n",
      "/kaggle/input/twitter-sent-with-data/KO_twitter_refined.csv\n",
      "/kaggle/input/twitter-sent-with-data/VZ_twitter_refined.csv\n"
     ]
    }
   ],
   "source": [
    "# This Python 3 environment comes with many helpful analytics libraries installed\n",
    "# It is defined by the kaggle/python Docker image: https://github.com/kaggle/docker-python\n",
    "# For example, here's several helpful packages to load\n",
    "\n",
    "import numpy as np # linear algebra\n",
    "import pandas as pd # data processing, CSV file I/O (e.g. pd.read_csv)\n",
    "\n",
    "# Input data files are available in the read-only \"../input/\" directory\n",
    "# For example, running this (by clicking run or pressing Shift+Enter) will list all files under the input directory\n",
    "\n",
    "import os\n",
    "for dirname, _, filenames in os.walk('/kaggle/input'):\n",
    "    for filename in filenames:\n",
    "        print(os.path.join(dirname, filename))\n",
    "\n",
    "# You can write up to 20GB to the current directory (/kaggle/working/) that gets preserved as output when you create a version using \"Save & Run All\" \n",
    "# You can also write temporary files to /kaggle/temp/, but they won't be saved outside of the current session"
   ]
  },
  {
   "cell_type": "code",
   "execution_count": 4,
   "metadata": {
    "execution": {
     "iopub.execute_input": "2021-05-20T19:51:11.631662Z",
     "iopub.status.busy": "2021-05-20T19:51:11.631306Z",
     "iopub.status.idle": "2021-05-20T19:51:11.651119Z",
     "shell.execute_reply": "2021-05-20T19:51:11.649674Z",
     "shell.execute_reply.started": "2021-05-20T19:51:11.631631Z"
    }
   },
   "outputs": [],
   "source": [
    "import warnings\n",
    "warnings.filterwarnings('ignore')\n",
    "import pandas as pd\n",
    "import matplotlib.pyplot as plt\n",
    "import seaborn as sns\n",
    "sns.set(font='IPAGothic')\n",
    "import numpy as np\n",
    "from sklearn.preprocessing import MinMaxScaler\n",
    "import statsmodels.api as sm\n",
    "from sklearn.metrics import mean_squared_error, mean_absolute_error\n",
    "import math\n",
    "from datetime import datetime\n",
    "from sklearn import preprocessing\n",
    "\n",
    "import statsmodels.formula.api as smf\n",
    "import statsmodels.tsa.api as smt\n",
    "import statsmodels.api as sm\n",
    "import scipy.stats as scs\n",
    "\n",
    "from collections import defaultdict\n",
    "from scipy.stats import boxcox\n",
    "from sklearn.metrics import mean_squared_error\n",
    "from statsmodels.tsa.seasonal import seasonal_decompose\n",
    "from statsmodels.tsa.stattools import adfuller, kpss\n",
    "from statsmodels.graphics.tsaplots import plot_acf, plot_pacf\n",
    "from statsmodels.tsa.holtwinters import SimpleExpSmoothing, ExponentialSmoothing\n",
    "from statsmodels.tsa.filters.hp_filter import hpfilter\n",
    "\n",
    "%matplotlib inline             \n",
    "from statsmodels.tsa.stattools import adfuller\n",
    "from statsmodels.tsa.stattools import acf, pacf\n",
    "from statsmodels.tsa.seasonal import seasonal_decompose\n",
    "from statsmodels.tsa.arima_model import ARIMA\n",
    "from matplotlib.pylab import rcParams\n",
    "rcParams['figure.figsize'] = 10, 6"
   ]
  },
  {
   "cell_type": "code",
   "execution_count": 3,
   "metadata": {
    "execution": {
     "iopub.execute_input": "2021-05-20T19:51:05.477871Z",
     "iopub.status.busy": "2021-05-20T19:51:05.477266Z",
     "iopub.status.idle": "2021-05-20T19:51:05.489974Z",
     "shell.execute_reply": "2021-05-20T19:51:05.488737Z",
     "shell.execute_reply.started": "2021-05-20T19:51:05.477832Z"
    }
   },
   "outputs": [],
   "source": []
  },
  {
   "cell_type": "code",
   "execution_count": 14,
   "metadata": {
    "execution": {
     "iopub.execute_input": "2021-05-20T19:52:07.584954Z",
     "iopub.status.busy": "2021-05-20T19:52:07.584593Z",
     "iopub.status.idle": "2021-05-20T19:52:07.594649Z",
     "shell.execute_reply": "2021-05-20T19:52:07.593353Z",
     "shell.execute_reply.started": "2021-05-20T19:52:07.584925Z"
    }
   },
   "outputs": [],
   "source": [
    "\n",
    "\n",
    "def adf_test(timeseries):\n",
    "    print ('Results of Dickey-Fuller Test:')\n",
    "    print('Null Hypothesis: Unit Root Present')\n",
    "    print('Test Statistic < Critical Value => Reject Null')\n",
    "    print('P-Value =< Alpha(.05) => Reject Null\\n')\n",
    "    dftest = adfuller(timeseries, autolag='AIC')\n",
    "    dfoutput = pd.Series(dftest[0:4], index=['Test Statistic','p-value','#Lags Used','Number of Observations Used'])\n",
    "    for key,value in dftest[4].items():\n",
    "        dfoutput[f'Critical Value {key}'] = value\n",
    "    print (dfoutput, '\\n')\n",
    "\n",
    "def kpss_test(timeseries, regression='c'):\n",
    "    # Whether stationary around constant 'c' or trend 'ct\n",
    "    print ('Results of KPSS Test:')\n",
    "    print('Null Hypothesis: Data is Stationary/Trend Stationary')\n",
    "    print('Test Statistic > Critical Value => Reject Null')\n",
    "    print('P-Value =< Alpha(.05) => Reject Null\\n')\n",
    "    kpsstest = kpss(timeseries, regression=regression)\n",
    "    kpss_output = pd.Series(kpsstest[0:3], index=['Test Statistic','p-value','Lags Used'])\n",
    "    for key,value in kpsstest[3].items():\n",
    "        kpss_output[f'Critical Value {key}'] = value\n",
    "    print (kpss_output, '\\n')\n",
    "\n"
   ]
  },
  {
   "cell_type": "code",
   "execution_count": 240,
   "metadata": {
    "execution": {
     "iopub.execute_input": "2021-05-20T21:58:38.382924Z",
     "iopub.status.busy": "2021-05-20T21:58:38.382556Z",
     "iopub.status.idle": "2021-05-20T21:58:38.405021Z",
     "shell.execute_reply": "2021-05-20T21:58:38.403856Z",
     "shell.execute_reply.started": "2021-05-20T21:58:38.382892Z"
    }
   },
   "outputs": [],
   "source": [
    "br = pd.read_csv('../input/twitter-sent-with-data/CSCO_twitter_refined.csv', parse_dates=['Date'],index_col='Date')"
   ]
  },
  {
   "cell_type": "code",
   "execution_count": 241,
   "metadata": {
    "execution": {
     "iopub.execute_input": "2021-05-20T21:58:40.076044Z",
     "iopub.status.busy": "2021-05-20T21:58:40.075660Z",
     "iopub.status.idle": "2021-05-20T21:58:40.105622Z",
     "shell.execute_reply": "2021-05-20T21:58:40.104063Z",
     "shell.execute_reply.started": "2021-05-20T21:58:40.076013Z"
    },
    "scrolled": true
   },
   "outputs": [
    {
     "ename": "ValueError",
     "evalue": "x must have 2 complete cycles requires 730 observations. x only has 564 observation(s)",
     "output_type": "error",
     "traceback": [
      "\u001b[0;31m---------------------------------------------------------------------------\u001b[0m",
      "\u001b[0;31mValueError\u001b[0m                                Traceback (most recent call last)",
      "\u001b[0;32m<ipython-input-241-f62cc44a3595>\u001b[0m in \u001b[0;36m<module>\u001b[0;34m\u001b[0m\n\u001b[0;32m----> 1\u001b[0;31m \u001b[0mres_br\u001b[0m \u001b[0;34m=\u001b[0m \u001b[0msm\u001b[0m\u001b[0;34m.\u001b[0m\u001b[0mtsa\u001b[0m\u001b[0;34m.\u001b[0m\u001b[0mseasonal_decompose\u001b[0m\u001b[0;34m(\u001b[0m\u001b[0mbr\u001b[0m\u001b[0;34m.\u001b[0m\u001b[0mClose\u001b[0m\u001b[0;34m.\u001b[0m\u001b[0mdropna\u001b[0m\u001b[0;34m(\u001b[0m\u001b[0;34m)\u001b[0m\u001b[0;34m,\u001b[0m\u001b[0mfreq\u001b[0m\u001b[0;34m=\u001b[0m\u001b[0;36m365\u001b[0m\u001b[0;34m)\u001b[0m\u001b[0;34m\u001b[0m\u001b[0;34m\u001b[0m\u001b[0m\n\u001b[0m\u001b[1;32m      2\u001b[0m \u001b[0mfig_br\u001b[0m \u001b[0;34m=\u001b[0m \u001b[0mres_br\u001b[0m\u001b[0;34m.\u001b[0m\u001b[0mplot\u001b[0m\u001b[0;34m(\u001b[0m\u001b[0;34m)\u001b[0m\u001b[0;34m\u001b[0m\u001b[0;34m\u001b[0m\u001b[0m\n\u001b[1;32m      3\u001b[0m \u001b[0mfig_br\u001b[0m\u001b[0;34m.\u001b[0m\u001b[0mset_figheight\u001b[0m\u001b[0;34m(\u001b[0m\u001b[0;36m8\u001b[0m\u001b[0;34m)\u001b[0m\u001b[0;34m\u001b[0m\u001b[0;34m\u001b[0m\u001b[0m\n\u001b[1;32m      4\u001b[0m \u001b[0mfig_br\u001b[0m\u001b[0;34m.\u001b[0m\u001b[0mset_figwidth\u001b[0m\u001b[0;34m(\u001b[0m\u001b[0;36m15\u001b[0m\u001b[0;34m)\u001b[0m\u001b[0;34m\u001b[0m\u001b[0;34m\u001b[0m\u001b[0m\n\u001b[1;32m      5\u001b[0m \u001b[0mplt\u001b[0m\u001b[0;34m.\u001b[0m\u001b[0mshow\u001b[0m\u001b[0;34m(\u001b[0m\u001b[0;34m)\u001b[0m\u001b[0;34m\u001b[0m\u001b[0;34m\u001b[0m\u001b[0m\n",
      "\u001b[0;32m/opt/conda/lib/python3.7/site-packages/pandas/util/_decorators.py\u001b[0m in \u001b[0;36mwrapper\u001b[0;34m(*args, **kwargs)\u001b[0m\n\u001b[1;32m    197\u001b[0m                 \u001b[0;32melse\u001b[0m\u001b[0;34m:\u001b[0m\u001b[0;34m\u001b[0m\u001b[0;34m\u001b[0m\u001b[0m\n\u001b[1;32m    198\u001b[0m                     \u001b[0mkwargs\u001b[0m\u001b[0;34m[\u001b[0m\u001b[0mnew_arg_name\u001b[0m\u001b[0;34m]\u001b[0m \u001b[0;34m=\u001b[0m \u001b[0mnew_arg_value\u001b[0m\u001b[0;34m\u001b[0m\u001b[0;34m\u001b[0m\u001b[0m\n\u001b[0;32m--> 199\u001b[0;31m             \u001b[0;32mreturn\u001b[0m \u001b[0mfunc\u001b[0m\u001b[0;34m(\u001b[0m\u001b[0;34m*\u001b[0m\u001b[0margs\u001b[0m\u001b[0;34m,\u001b[0m \u001b[0;34m**\u001b[0m\u001b[0mkwargs\u001b[0m\u001b[0;34m)\u001b[0m\u001b[0;34m\u001b[0m\u001b[0;34m\u001b[0m\u001b[0m\n\u001b[0m\u001b[1;32m    200\u001b[0m \u001b[0;34m\u001b[0m\u001b[0m\n\u001b[1;32m    201\u001b[0m         \u001b[0;32mreturn\u001b[0m \u001b[0mcast\u001b[0m\u001b[0;34m(\u001b[0m\u001b[0mF\u001b[0m\u001b[0;34m,\u001b[0m \u001b[0mwrapper\u001b[0m\u001b[0;34m)\u001b[0m\u001b[0;34m\u001b[0m\u001b[0;34m\u001b[0m\u001b[0m\n",
      "\u001b[0;32m/opt/conda/lib/python3.7/site-packages/statsmodels/tsa/seasonal.py\u001b[0m in \u001b[0;36mseasonal_decompose\u001b[0;34m(x, model, filt, period, two_sided, extrapolate_trend)\u001b[0m\n\u001b[1;32m    147\u001b[0m         raise ValueError('x must have 2 complete cycles requires {0} '\n\u001b[1;32m    148\u001b[0m                          \u001b[0;34m'observations. x only has {1} '\u001b[0m\u001b[0;34m\u001b[0m\u001b[0;34m\u001b[0m\u001b[0m\n\u001b[0;32m--> 149\u001b[0;31m                          'observation(s)'.format(2 * pfreq, x.shape[0]))\n\u001b[0m\u001b[1;32m    150\u001b[0m \u001b[0;34m\u001b[0m\u001b[0m\n\u001b[1;32m    151\u001b[0m     \u001b[0;32mif\u001b[0m \u001b[0mfilt\u001b[0m \u001b[0;32mis\u001b[0m \u001b[0;32mNone\u001b[0m\u001b[0;34m:\u001b[0m\u001b[0;34m\u001b[0m\u001b[0;34m\u001b[0m\u001b[0m\n",
      "\u001b[0;31mValueError\u001b[0m: x must have 2 complete cycles requires 730 observations. x only has 564 observation(s)"
     ]
    }
   ],
   "source": [
    "res_br = sm.tsa.seasonal_decompose(br.Close.dropna(),freq=365)\n",
    "fig_br = res_br.plot()\n",
    "fig_br.set_figheight(8)\n",
    "fig_br.set_figwidth(15)\n",
    "plt.show()"
   ]
  },
  {
   "cell_type": "code",
   "execution_count": 247,
   "metadata": {
    "execution": {
     "iopub.execute_input": "2021-05-20T22:01:10.733633Z",
     "iopub.status.busy": "2021-05-20T22:01:10.733265Z",
     "iopub.status.idle": "2021-05-20T22:01:10.746506Z",
     "shell.execute_reply": "2021-05-20T22:01:10.745218Z",
     "shell.execute_reply.started": "2021-05-20T22:01:10.733600Z"
    }
   },
   "outputs": [
    {
     "data": {
      "text/html": [
       "<div>\n",
       "<style scoped>\n",
       "    .dataframe tbody tr th:only-of-type {\n",
       "        vertical-align: middle;\n",
       "    }\n",
       "\n",
       "    .dataframe tbody tr th {\n",
       "        vertical-align: top;\n",
       "    }\n",
       "\n",
       "    .dataframe thead th {\n",
       "        text-align: right;\n",
       "    }\n",
       "</style>\n",
       "<table border=\"1\" class=\"dataframe\">\n",
       "  <thead>\n",
       "    <tr style=\"text-align: right;\">\n",
       "      <th></th>\n",
       "      <th>Close</th>\n",
       "      <th>Volume</th>\n",
       "      <th>sentiment</th>\n",
       "    </tr>\n",
       "    <tr>\n",
       "      <th>Date</th>\n",
       "      <th></th>\n",
       "      <th></th>\n",
       "      <th></th>\n",
       "    </tr>\n",
       "  </thead>\n",
       "  <tbody>\n",
       "    <tr>\n",
       "      <th>2012-08-17</th>\n",
       "      <td>19.059999</td>\n",
       "      <td>55706700.0</td>\n",
       "      <td>1.000000</td>\n",
       "    </tr>\n",
       "    <tr>\n",
       "      <th>2012-11-14</th>\n",
       "      <td>17.660000</td>\n",
       "      <td>97058200.0</td>\n",
       "      <td>0.000000</td>\n",
       "    </tr>\n",
       "    <tr>\n",
       "      <th>2012-11-15</th>\n",
       "      <td>17.940001</td>\n",
       "      <td>55885900.0</td>\n",
       "      <td>0.666667</td>\n",
       "    </tr>\n",
       "    <tr>\n",
       "      <th>2013-03-08</th>\n",
       "      <td>21.830000</td>\n",
       "      <td>23839100.0</td>\n",
       "      <td>0.000000</td>\n",
       "    </tr>\n",
       "    <tr>\n",
       "      <th>2013-03-19</th>\n",
       "      <td>21.520000</td>\n",
       "      <td>27264100.0</td>\n",
       "      <td>0.500000</td>\n",
       "    </tr>\n",
       "  </tbody>\n",
       "</table>\n",
       "</div>"
      ],
      "text/plain": [
       "                Close      Volume  sentiment\n",
       "Date                                        \n",
       "2012-08-17  19.059999  55706700.0   1.000000\n",
       "2012-11-14  17.660000  97058200.0   0.000000\n",
       "2012-11-15  17.940001  55885900.0   0.666667\n",
       "2013-03-08  21.830000  23839100.0   0.000000\n",
       "2013-03-19  21.520000  27264100.0   0.500000"
      ]
     },
     "execution_count": 247,
     "metadata": {},
     "output_type": "execute_result"
    }
   ],
   "source": [
    "br.head()"
   ]
  },
  {
   "cell_type": "code",
   "execution_count": 246,
   "metadata": {
    "execution": {
     "iopub.execute_input": "2021-05-20T22:00:13.076821Z",
     "iopub.status.busy": "2021-05-20T22:00:13.076415Z",
     "iopub.status.idle": "2021-05-20T22:00:13.094448Z",
     "shell.execute_reply": "2021-05-20T22:00:13.092994Z",
     "shell.execute_reply.started": "2021-05-20T22:00:13.076788Z"
    }
   },
   "outputs": [
    {
     "data": {
      "text/html": [
       "<div>\n",
       "<style scoped>\n",
       "    .dataframe tbody tr th:only-of-type {\n",
       "        vertical-align: middle;\n",
       "    }\n",
       "\n",
       "    .dataframe tbody tr th {\n",
       "        vertical-align: top;\n",
       "    }\n",
       "\n",
       "    .dataframe thead th {\n",
       "        text-align: right;\n",
       "    }\n",
       "</style>\n",
       "<table border=\"1\" class=\"dataframe\">\n",
       "  <thead>\n",
       "    <tr style=\"text-align: right;\">\n",
       "      <th></th>\n",
       "      <th>Close</th>\n",
       "      <th>Volume</th>\n",
       "      <th>sentiment</th>\n",
       "    </tr>\n",
       "    <tr>\n",
       "      <th>Date</th>\n",
       "      <th></th>\n",
       "      <th></th>\n",
       "      <th></th>\n",
       "    </tr>\n",
       "  </thead>\n",
       "  <tbody>\n",
       "    <tr>\n",
       "      <th>2019-08-02</th>\n",
       "      <td>53.250000</td>\n",
       "      <td>29021900.0</td>\n",
       "      <td>0.666667</td>\n",
       "    </tr>\n",
       "    <tr>\n",
       "      <th>2019-08-05</th>\n",
       "      <td>51.369999</td>\n",
       "      <td>29931800.0</td>\n",
       "      <td>0.250000</td>\n",
       "    </tr>\n",
       "    <tr>\n",
       "      <th>2019-08-06</th>\n",
       "      <td>52.599998</td>\n",
       "      <td>20708400.0</td>\n",
       "      <td>0.000000</td>\n",
       "    </tr>\n",
       "    <tr>\n",
       "      <th>2019-08-08</th>\n",
       "      <td>53.160000</td>\n",
       "      <td>26093500.0</td>\n",
       "      <td>0.000000</td>\n",
       "    </tr>\n",
       "    <tr>\n",
       "      <th>2019-08-09</th>\n",
       "      <td>52.430000</td>\n",
       "      <td>17425000.0</td>\n",
       "      <td>1.000000</td>\n",
       "    </tr>\n",
       "    <tr>\n",
       "      <th>...</th>\n",
       "      <td>...</td>\n",
       "      <td>...</td>\n",
       "      <td>...</td>\n",
       "    </tr>\n",
       "    <tr>\n",
       "      <th>2020-05-29</th>\n",
       "      <td>47.820000</td>\n",
       "      <td>43553600.0</td>\n",
       "      <td>0.000000</td>\n",
       "    </tr>\n",
       "    <tr>\n",
       "      <th>2020-06-01</th>\n",
       "      <td>46.299999</td>\n",
       "      <td>18712400.0</td>\n",
       "      <td>0.500000</td>\n",
       "    </tr>\n",
       "    <tr>\n",
       "      <th>2020-06-03</th>\n",
       "      <td>46.939999</td>\n",
       "      <td>17492000.0</td>\n",
       "      <td>1.000000</td>\n",
       "    </tr>\n",
       "    <tr>\n",
       "      <th>2020-06-05</th>\n",
       "      <td>47.830002</td>\n",
       "      <td>22591100.0</td>\n",
       "      <td>1.000000</td>\n",
       "    </tr>\n",
       "    <tr>\n",
       "      <th>2020-06-10</th>\n",
       "      <td>47.419998</td>\n",
       "      <td>18462400.0</td>\n",
       "      <td>0.000000</td>\n",
       "    </tr>\n",
       "  </tbody>\n",
       "</table>\n",
       "<p>113 rows × 3 columns</p>\n",
       "</div>"
      ],
      "text/plain": [
       "                Close      Volume  sentiment\n",
       "Date                                        \n",
       "2019-08-02  53.250000  29021900.0   0.666667\n",
       "2019-08-05  51.369999  29931800.0   0.250000\n",
       "2019-08-06  52.599998  20708400.0   0.000000\n",
       "2019-08-08  53.160000  26093500.0   0.000000\n",
       "2019-08-09  52.430000  17425000.0   1.000000\n",
       "...               ...         ...        ...\n",
       "2020-05-29  47.820000  43553600.0   0.000000\n",
       "2020-06-01  46.299999  18712400.0   0.500000\n",
       "2020-06-03  46.939999  17492000.0   1.000000\n",
       "2020-06-05  47.830002  22591100.0   1.000000\n",
       "2020-06-10  47.419998  18462400.0   0.000000\n",
       "\n",
       "[113 rows x 3 columns]"
      ]
     },
     "execution_count": 246,
     "metadata": {},
     "output_type": "execute_result"
    }
   ],
   "source": [
    "br[br_split:]"
   ]
  },
  {
   "cell_type": "code",
   "execution_count": 248,
   "metadata": {
    "execution": {
     "iopub.execute_input": "2021-05-20T22:02:06.499475Z",
     "iopub.status.busy": "2021-05-20T22:02:06.498928Z",
     "iopub.status.idle": "2021-05-20T22:02:06.511882Z",
     "shell.execute_reply": "2021-05-20T22:02:06.511004Z",
     "shell.execute_reply.started": "2021-05-20T22:02:06.499441Z"
    }
   },
   "outputs": [],
   "source": [
    "br_split = int(len(br)*0.8)\n",
    "br_split_date = '2019-08-02'\n",
    "br_split_date_next = '2019-08-05'\n",
    "#br.iloc[br_split+1, 0:4]\n",
    "tr_br_start,tr_br_end = '2012-08-17','2019-08-02'\n",
    "te_br_start,te_br_end = '2019-08-05','2020-06-10'\n",
    "tra_br = br['Close'][tr_br_start:tr_br_end].dropna()\n",
    "tes_br = br['Close'][te_br_start:te_br_end].dropna()\n",
    "\n",
    "train_start,train_end = tr_br_start,tr_br_end\n",
    "test_start,test_end = te_br_start,te_br_end"
   ]
  },
  {
   "cell_type": "code",
   "execution_count": 249,
   "metadata": {
    "execution": {
     "iopub.execute_input": "2021-05-20T22:02:11.686669Z",
     "iopub.status.busy": "2021-05-20T22:02:11.686119Z",
     "iopub.status.idle": "2021-05-20T22:02:11.695125Z",
     "shell.execute_reply": "2021-05-20T22:02:11.694043Z",
     "shell.execute_reply.started": "2021-05-20T22:02:11.686636Z"
    }
   },
   "outputs": [],
   "source": [
    "#differentiate by moving average\n",
    "movingAverage_BA = br['Close'].rolling(window=12).mean()\n",
    "movingSTD_BA = br['Close'].rolling(window=12).std()\n",
    "datasetLogScaleMinusMovingAverage = tra_br - movingAverage_BA\n",
    "datasetLogScaleMinusMovingAverage.dropna(inplace=True)"
   ]
  },
  {
   "cell_type": "code",
   "execution_count": 250,
   "metadata": {
    "execution": {
     "iopub.execute_input": "2021-05-20T22:02:13.182994Z",
     "iopub.status.busy": "2021-05-20T22:02:13.182425Z",
     "iopub.status.idle": "2021-05-20T22:02:13.388472Z",
     "shell.execute_reply": "2021-05-20T22:02:13.387341Z",
     "shell.execute_reply.started": "2021-05-20T22:02:13.182960Z"
    }
   },
   "outputs": [
    {
     "name": "stdout",
     "output_type": "stream",
     "text": [
      "p-value:0.6327857309428772\n",
      "p-value:1.0369681616136421e-10\n",
      "p-value:0.3213511896669732\n",
      "p-value:1.756145753601036e-11\n",
      "p-value:0.6199468379580804\n",
      "p-value:1.9361862079118938e-09\n"
     ]
    }
   ],
   "source": [
    "res_adf_br = sm.tsa.adfuller(br['Close'].dropna(),regression='ct')\n",
    "print('p-value:{}'.format(res_adf_br[1]))\n",
    "res_adf_br = sm.tsa.adfuller(br['Close'].diff().dropna(),regression='ct')\n",
    "print('p-value:{}'.format(res_adf_br[1]))\n",
    "\n",
    "res_adf_br = sm.tsa.adfuller(br['Close']['2013-01-01':].dropna(),regression='c')\n",
    "print('p-value:{}'.format(res_adf_br[1]))\n",
    "res_adf_br = sm.tsa.adfuller(br['Close']['2013-01-01':].diff().dropna(),regression='c')\n",
    "print('p-value:{}'.format(res_adf_br[1]))\n",
    "\n",
    "res_adf_br = sm.tsa.adfuller(br['Close']['2013-01-01':].dropna(),regression='ctt')\n",
    "print('p-value:{}'.format(res_adf_br[1]))\n",
    "res_adf_br = sm.tsa.adfuller(br['Close']['2013-01-01':].diff().dropna(),regression='ctt')\n",
    "print('p-value:{}'.format(res_adf_br[1]))\n",
    "\n"
   ]
  },
  {
   "cell_type": "code",
   "execution_count": 251,
   "metadata": {
    "execution": {
     "iopub.execute_input": "2021-05-20T22:02:16.160063Z",
     "iopub.status.busy": "2021-05-20T22:02:16.159686Z",
     "iopub.status.idle": "2021-05-20T22:02:16.169632Z",
     "shell.execute_reply": "2021-05-20T22:02:16.168262Z",
     "shell.execute_reply.started": "2021-05-20T22:02:16.160033Z"
    }
   },
   "outputs": [],
   "source": [
    "def tsplot(y, lags=None, figsize=(12, 7), style='bmh'):\n",
    "    \"\"\"\n",
    "        Plot time series, its ACF and PACF, calculate Dickey–Fuller test\n",
    "        \n",
    "        y - timeseries\n",
    "        lags - how many lags to include in ACF, PACF calculation\n",
    "    \"\"\"\n",
    "    if not isinstance(y, pd.Series):\n",
    "        y = pd.Series(y)\n",
    "        \n",
    "    with plt.style.context(style):    \n",
    "        fig = plt.figure(figsize=figsize)\n",
    "        layout = (2, 2)\n",
    "        ts_ax = plt.subplot2grid(layout, (0, 0), colspan=2)\n",
    "        acf_ax = plt.subplot2grid(layout, (1, 0))\n",
    "        pacf_ax = plt.subplot2grid(layout, (1, 1))\n",
    "        \n",
    "        y.plot(ax=ts_ax)\n",
    "        p_value = sm.tsa.stattools.adfuller(y)[1]\n",
    "        ts_ax.set_title('Time Series Analysis Plots\\n Dickey-Fuller: p={0:.5f}'.format(p_value))\n",
    "        smt.graphics.plot_acf(y, lags=lags, ax=acf_ax)\n",
    "        smt.graphics.plot_pacf(y, lags=lags, ax=pacf_ax)\n",
    "        plt.tight_layout()"
   ]
  },
  {
   "cell_type": "code",
   "execution_count": 252,
   "metadata": {
    "execution": {
     "iopub.execute_input": "2021-05-20T22:02:18.592797Z",
     "iopub.status.busy": "2021-05-20T22:02:18.592224Z",
     "iopub.status.idle": "2021-05-20T22:02:18.606948Z",
     "shell.execute_reply": "2021-05-20T22:02:18.605390Z",
     "shell.execute_reply.started": "2021-05-20T22:02:18.592742Z"
    }
   },
   "outputs": [
    {
     "name": "stdout",
     "output_type": "stream",
     "text": [
      "Results of KPSS Test:\n",
      "Null Hypothesis: Data is Stationary/Trend Stationary\n",
      "Test Statistic > Critical Value => Reject Null\n",
      "P-Value =< Alpha(.05) => Reject Null\n",
      "\n",
      "Test Statistic          2.328246\n",
      "p-value                 0.010000\n",
      "Lags Used              19.000000\n",
      "Critical Value 10%      0.347000\n",
      "Critical Value 5%       0.463000\n",
      "Critical Value 2.5%     0.574000\n",
      "Critical Value 1%       0.739000\n",
      "dtype: float64 \n",
      "\n"
     ]
    }
   ],
   "source": [
    "kpss_test(br.Close)"
   ]
  },
  {
   "cell_type": "code",
   "execution_count": 253,
   "metadata": {
    "execution": {
     "iopub.execute_input": "2021-05-20T22:02:20.066108Z",
     "iopub.status.busy": "2021-05-20T22:02:20.065525Z",
     "iopub.status.idle": "2021-05-20T22:02:20.078222Z",
     "shell.execute_reply": "2021-05-20T22:02:20.076768Z",
     "shell.execute_reply.started": "2021-05-20T22:02:20.066074Z"
    }
   },
   "outputs": [
    {
     "name": "stdout",
     "output_type": "stream",
     "text": [
      "Box-Cox Lambda Value:  0.6771724318348018\n"
     ]
    }
   ],
   "source": [
    "sta_so2_df = pd.DataFrame(br.Close)\n",
    "sta_so2_df['boxcox_SO_2'], lamda = boxcox(br.Close)\n",
    "print('Box-Cox Lambda Value: ', lamda)"
   ]
  },
  {
   "cell_type": "code",
   "execution_count": 254,
   "metadata": {
    "execution": {
     "iopub.execute_input": "2021-05-20T22:02:21.522409Z",
     "iopub.status.busy": "2021-05-20T22:02:21.522069Z",
     "iopub.status.idle": "2021-05-20T22:02:21.531198Z",
     "shell.execute_reply": "2021-05-20T22:02:21.529717Z",
     "shell.execute_reply.started": "2021-05-20T22:02:21.522381Z"
    }
   },
   "outputs": [
    {
     "data": {
      "text/plain": [
       "Date\n",
       "2019-08-05    51.369999\n",
       "2019-08-06    52.599998\n",
       "2019-08-08    53.160000\n",
       "2019-08-09    52.430000\n",
       "2019-08-12    51.540001\n",
       "                ...    \n",
       "2020-05-29    47.820000\n",
       "2020-06-01    46.299999\n",
       "2020-06-03    46.939999\n",
       "2020-06-05    47.830002\n",
       "2020-06-10    47.419998\n",
       "Name: Close, Length: 112, dtype: float64"
      ]
     },
     "execution_count": 254,
     "metadata": {},
     "output_type": "execute_result"
    }
   ],
   "source": [
    "tes_br"
   ]
  },
  {
   "cell_type": "code",
   "execution_count": 255,
   "metadata": {
    "execution": {
     "iopub.execute_input": "2021-05-20T22:02:23.551662Z",
     "iopub.status.busy": "2021-05-20T22:02:23.551276Z",
     "iopub.status.idle": "2021-05-20T22:02:23.808246Z",
     "shell.execute_reply": "2021-05-20T22:02:23.807399Z",
     "shell.execute_reply.started": "2021-05-20T22:02:23.551631Z"
    }
   },
   "outputs": [
    {
     "data": {
      "text/plain": [
       "Date\n",
       "2019-08-05   -0.081173\n",
       "2019-08-06   -0.054188\n",
       "2019-08-08   -0.038756\n",
       "2019-08-09   -0.045429\n",
       "2019-08-12   -0.053257\n",
       "2019-08-13   -0.023591\n",
       "2019-08-14   -0.054193\n",
       "2019-08-15   -0.127422\n",
       "2019-08-16   -0.096820\n",
       "2019-08-19   -0.053468\n",
       "Name: Close, dtype: float64"
      ]
     },
     "execution_count": 255,
     "metadata": {},
     "output_type": "execute_result"
    },
    {
     "data": {
      "image/png": "[encoded data removed]",
      "text/plain": [
       "<Figure size 720x432 with 1 Axes>"
      ]
     },
     "metadata": {
      "needs_background": "light"
     },
     "output_type": "display_data"
    }
   ],
   "source": [
    "movingAverage = np.log(br.Close).rolling(window=12).mean()\n",
    "\n",
    "indexedDataset_logScale_train = np.log(tra_br)\n",
    "movingAverage_train = indexedDataset_logScale_train.rolling(window=12).mean()\n",
    "movingSTD_train = indexedDataset_logScale_train.rolling(window=12).std()\n",
    "plt.plot(indexedDataset_logScale_train)\n",
    "plt.plot(movingAverage_train, color='red')\n",
    "#datasetLogScaleMinusMovingAverage\n",
    "LSMMA_train= indexedDataset_logScale_train - movingAverage\n",
    "\n",
    "indexedDataset_logScale_test = np.log(tes_br)\n",
    "movingAverage_test = indexedDataset_logScale_test.rolling(window=12).mean()\n",
    "movingSTD_test = indexedDataset_logScale_test.rolling(window=12).std()\n",
    "#datasetLogScaleMinusMovingAverage\n",
    "LSMMA_test = indexedDataset_logScale_test - movingAverage\n",
    "\n",
    "\n",
    "#Remove NAN values\n",
    "LSMMA_train.dropna(inplace=True)\n",
    "LSMMA_train.head(10)\n",
    "\n",
    "LSMMA_test.dropna(inplace=True)\n",
    "LSMMA_test.head(10)"
   ]
  },
  {
   "cell_type": "code",
   "execution_count": 256,
   "metadata": {
    "execution": {
     "iopub.execute_input": "2021-05-20T22:02:49.359853Z",
     "iopub.status.busy": "2021-05-20T22:02:49.359466Z",
     "iopub.status.idle": "2021-05-20T22:02:49.599198Z",
     "shell.execute_reply": "2021-05-20T22:02:49.597837Z",
     "shell.execute_reply.started": "2021-05-20T22:02:49.359821Z"
    }
   },
   "outputs": [
    {
     "data": {
      "text/plain": [
       "[<matplotlib.lines.Line2D at 0x7f41e921b210>]"
      ]
     },
     "execution_count": 256,
     "metadata": {},
     "output_type": "execute_result"
    },
    {
     "data": {
      "image/png": "[encoded data removed]",
      "text/plain": [
       "<Figure size 720x432 with 1 Axes>"
      ]
     },
     "metadata": {
      "needs_background": "light"
     },
     "output_type": "display_data"
    }
   ],
   "source": [
    "plt.plot(LSMMA_train)"
   ]
  },
  {
   "cell_type": "code",
   "execution_count": 257,
   "metadata": {
    "execution": {
     "iopub.execute_input": "2021-05-20T22:02:53.649601Z",
     "iopub.status.busy": "2021-05-20T22:02:53.649216Z",
     "iopub.status.idle": "2021-05-20T22:02:53.663179Z",
     "shell.execute_reply": "2021-05-20T22:02:53.661638Z",
     "shell.execute_reply.started": "2021-05-20T22:02:53.649569Z"
    }
   },
   "outputs": [
    {
     "name": "stdout",
     "output_type": "stream",
     "text": [
      "Results of KPSS Test:\n",
      "Null Hypothesis: Data is Stationary/Trend Stationary\n",
      "Test Statistic > Critical Value => Reject Null\n",
      "P-Value =< Alpha(.05) => Reject Null\n",
      "\n",
      "Test Statistic          0.044238\n",
      "p-value                 0.100000\n",
      "Lags Used              18.000000\n",
      "Critical Value 10%      0.347000\n",
      "Critical Value 5%       0.463000\n",
      "Critical Value 2.5%     0.574000\n",
      "Critical Value 1%       0.739000\n",
      "dtype: float64 \n",
      "\n"
     ]
    }
   ],
   "source": [
    "kpss_test(LSMMA_train)\n"
   ]
  },
  {
   "cell_type": "code",
   "execution_count": 258,
   "metadata": {
    "execution": {
     "iopub.execute_input": "2021-05-20T22:02:56.130909Z",
     "iopub.status.busy": "2021-05-20T22:02:56.130540Z",
     "iopub.status.idle": "2021-05-20T22:02:56.859881Z",
     "shell.execute_reply": "2021-05-20T22:02:56.858814Z",
     "shell.execute_reply.started": "2021-05-20T22:02:56.130876Z"
    }
   },
   "outputs": [
    {
     "data": {
      "image/png": "[encoded data removed]",
      "text/plain": [
       "<Figure size 720x432 with 2 Axes>"
      ]
     },
     "metadata": {
      "needs_background": "light"
     },
     "output_type": "display_data"
    }
   ],
   "source": [
    "#ACF & PACF plots\n",
    "\n",
    "lag_acf = acf(LSMMA_train, nlags=20)\n",
    "lag_pacf = pacf(LSMMA_train, nlags=20, method='ols')\n",
    "\n",
    "#Plot ACF:\n",
    "plt.subplot(121)\n",
    "plt.plot(lag_acf)\n",
    "plt.axhline(y=0, linestyle='--', color='gray')\n",
    "plt.axhline(y=-1.96/np.sqrt(len(LSMMA_train)), linestyle='--', color='gray')\n",
    "plt.axhline(y=1.96/np.sqrt(len(LSMMA_train)), linestyle='--', color='gray')\n",
    "plt.title('Autocorrelation Function')            \n",
    "\n",
    "#Plot PACF\n",
    "plt.subplot(122)\n",
    "plt.plot(lag_pacf)\n",
    "plt.axhline(y=0, linestyle='--', color='gray')\n",
    "plt.axhline(y=-1.96/np.sqrt(len(LSMMA_train)), linestyle='--', color='gray')\n",
    "plt.axhline(y=1.96/np.sqrt(len(LSMMA_train)), linestyle='--', color='gray')\n",
    "plt.title('Partial Autocorrelation Function')\n",
    "            \n",
    "plt.tight_layout()         "
   ]
  },
  {
   "cell_type": "code",
   "execution_count": null,
   "metadata": {
    "execution": {
     "iopub.execute_input": "2021-05-20T22:03:01.195989Z",
     "iopub.status.busy": "2021-05-20T22:03:01.195567Z"
    },
    "scrolled": true
   },
   "outputs": [],
   "source": [
    "resDiff_br = sm.tsa.arma_order_select_ic(LSMMA_train, max_ar=7, max_ma=7, ic='aic', trend='c')\n",
    "print('ARMA(p,q) =',resDiff_br['aic_min_order'],'is the best.')"
   ]
  },
  {
   "cell_type": "code",
   "execution_count": 223,
   "metadata": {
    "execution": {
     "iopub.execute_input": "2021-05-20T21:45:35.378908Z",
     "iopub.status.busy": "2021-05-20T21:45:35.378524Z",
     "iopub.status.idle": "2021-05-20T21:45:35.385406Z",
     "shell.execute_reply": "2021-05-20T21:45:35.384379Z",
     "shell.execute_reply.started": "2021-05-20T21:45:35.378871Z"
    }
   },
   "outputs": [
    {
     "data": {
      "text/plain": [
       "NoneType"
      ]
     },
     "execution_count": 223,
     "metadata": {},
     "output_type": "execute_result"
    }
   ],
   "source": [
    "type(LSMMA_train.reset_index(inplace=True, drop=True))"
   ]
  },
  {
   "cell_type": "code",
   "execution_count": 224,
   "metadata": {
    "execution": {
     "iopub.execute_input": "2021-05-20T21:45:36.666846Z",
     "iopub.status.busy": "2021-05-20T21:45:36.666429Z",
     "iopub.status.idle": "2021-05-20T21:45:36.676284Z",
     "shell.execute_reply": "2021-05-20T21:45:36.674945Z",
     "shell.execute_reply.started": "2021-05-20T21:45:36.666810Z"
    }
   },
   "outputs": [
    {
     "data": {
      "text/plain": [
       "0       0.071468\n",
       "1       0.125435\n",
       "2       0.053071\n",
       "3       0.055704\n",
       "4       0.036621\n",
       "          ...   \n",
       "1088   -0.050769\n",
       "1089   -0.035485\n",
       "1090   -0.032587\n",
       "1091   -0.045574\n",
       "1092   -0.109199\n",
       "Name: Close, Length: 1093, dtype: float64"
      ]
     },
     "execution_count": 224,
     "metadata": {},
     "output_type": "execute_result"
    }
   ],
   "source": [
    "LSMMA_train"
   ]
  },
  {
   "cell_type": "code",
   "execution_count": 184,
   "metadata": {
    "execution": {
     "iopub.execute_input": "2021-05-20T21:20:20.079399Z",
     "iopub.status.busy": "2021-05-20T21:20:20.079070Z",
     "iopub.status.idle": "2021-05-20T21:20:23.186819Z",
     "shell.execute_reply": "2021-05-20T21:20:23.185821Z",
     "shell.execute_reply.started": "2021-05-20T21:20:20.079371Z"
    }
   },
   "outputs": [
    {
     "data": {
      "text/html": [
       "<table class=\"simpletable\">\n",
       "<caption>SARIMAX Results</caption>\n",
       "<tr>\n",
       "  <th>Dep. Variable:</th>         <td>Close</td>      <th>  No. Observations:  </th>   <td>1093</td>   \n",
       "</tr>\n",
       "<tr>\n",
       "  <th>Model:</th>           <td>SARIMAX(6, 1, 6)</td> <th>  Log Likelihood     </th> <td>2771.509</td> \n",
       "</tr>\n",
       "<tr>\n",
       "  <th>Date:</th>            <td>Thu, 20 May 2021</td> <th>  AIC                </th> <td>-5517.019</td>\n",
       "</tr>\n",
       "<tr>\n",
       "  <th>Time:</th>                <td>21:20:23</td>     <th>  BIC                </th> <td>-5452.157</td>\n",
       "</tr>\n",
       "<tr>\n",
       "  <th>Sample:</th>                  <td>0</td>        <th>  HQIC               </th> <td>-5492.465</td>\n",
       "</tr>\n",
       "<tr>\n",
       "  <th></th>                      <td> - 1093</td>     <th>                     </th>     <td> </td>    \n",
       "</tr>\n",
       "<tr>\n",
       "  <th>Covariance Type:</th>        <td>opg</td>       <th>                     </th>     <td> </td>    \n",
       "</tr>\n",
       "</table>\n",
       "<table class=\"simpletable\">\n",
       "<tr>\n",
       "     <td></td>       <th>coef</th>     <th>std err</th>      <th>z</th>      <th>P>|z|</th>  <th>[0.025</th>    <th>0.975]</th>  \n",
       "</tr>\n",
       "<tr>\n",
       "  <th>ar.L1</th>  <td>   -0.3223</td> <td>    0.170</td> <td>   -1.894</td> <td> 0.058</td> <td>   -0.656</td> <td>    0.011</td>\n",
       "</tr>\n",
       "<tr>\n",
       "  <th>ar.L2</th>  <td>    0.2258</td> <td>    0.207</td> <td>    1.091</td> <td> 0.275</td> <td>   -0.180</td> <td>    0.631</td>\n",
       "</tr>\n",
       "<tr>\n",
       "  <th>ar.L3</th>  <td>   -0.0318</td> <td>    0.108</td> <td>   -0.294</td> <td> 0.769</td> <td>   -0.244</td> <td>    0.180</td>\n",
       "</tr>\n",
       "<tr>\n",
       "  <th>ar.L4</th>  <td>   -0.0654</td> <td>    0.163</td> <td>   -0.402</td> <td> 0.688</td> <td>   -0.385</td> <td>    0.254</td>\n",
       "</tr>\n",
       "<tr>\n",
       "  <th>ar.L5</th>  <td>    0.0085</td> <td>    0.112</td> <td>    0.076</td> <td> 0.939</td> <td>   -0.210</td> <td>    0.227</td>\n",
       "</tr>\n",
       "<tr>\n",
       "  <th>ar.L6</th>  <td>    0.2515</td> <td>    0.113</td> <td>    2.220</td> <td> 0.026</td> <td>    0.029</td> <td>    0.474</td>\n",
       "</tr>\n",
       "<tr>\n",
       "  <th>ma.L1</th>  <td>    0.1165</td> <td>    0.171</td> <td>    0.683</td> <td> 0.495</td> <td>   -0.218</td> <td>    0.451</td>\n",
       "</tr>\n",
       "<tr>\n",
       "  <th>ma.L2</th>  <td>   -0.4839</td> <td>    0.209</td> <td>   -2.321</td> <td> 0.020</td> <td>   -0.893</td> <td>   -0.075</td>\n",
       "</tr>\n",
       "<tr>\n",
       "  <th>ma.L3</th>  <td>   -0.0751</td> <td>    0.135</td> <td>   -0.556</td> <td> 0.578</td> <td>   -0.340</td> <td>    0.190</td>\n",
       "</tr>\n",
       "<tr>\n",
       "  <th>ma.L4</th>  <td>    0.0416</td> <td>    0.173</td> <td>    0.240</td> <td> 0.810</td> <td>   -0.298</td> <td>    0.381</td>\n",
       "</tr>\n",
       "<tr>\n",
       "  <th>ma.L5</th>  <td>   -0.1519</td> <td>    0.139</td> <td>   -1.093</td> <td> 0.274</td> <td>   -0.424</td> <td>    0.121</td>\n",
       "</tr>\n",
       "<tr>\n",
       "  <th>ma.L6</th>  <td>   -0.4479</td> <td>    0.131</td> <td>   -3.421</td> <td> 0.001</td> <td>   -0.705</td> <td>   -0.191</td>\n",
       "</tr>\n",
       "<tr>\n",
       "  <th>sigma2</th> <td>    0.0004</td> <td> 2.23e-05</td> <td>   15.705</td> <td> 0.000</td> <td>    0.000</td> <td>    0.000</td>\n",
       "</tr>\n",
       "</table>\n",
       "<table class=\"simpletable\">\n",
       "<tr>\n",
       "  <th>Ljung-Box (L1) (Q):</th>     <td>1.24</td> <th>  Jarque-Bera (JB):  </th> <td>32536.25</td>\n",
       "</tr>\n",
       "<tr>\n",
       "  <th>Prob(Q):</th>                <td>0.27</td> <th>  Prob(JB):          </th>   <td>0.00</td>  \n",
       "</tr>\n",
       "<tr>\n",
       "  <th>Heteroskedasticity (H):</th> <td>0.31</td> <th>  Skew:              </th>   <td>1.06</td>  \n",
       "</tr>\n",
       "<tr>\n",
       "  <th>Prob(H) (two-sided):</th>    <td>0.00</td> <th>  Kurtosis:          </th>   <td>29.74</td> \n",
       "</tr>\n",
       "</table><br/><br/>Warnings:<br/>[1] Covariance matrix calculated using the outer product of gradients (complex-step)."
      ],
      "text/plain": [
       "<class 'statsmodels.iolib.summary.Summary'>\n",
       "\"\"\"\n",
       "                               SARIMAX Results                                \n",
       "==============================================================================\n",
       "Dep. Variable:                  Close   No. Observations:                 1093\n",
       "Model:               SARIMAX(6, 1, 6)   Log Likelihood                2771.509\n",
       "Date:                Thu, 20 May 2021   AIC                          -5517.019\n",
       "Time:                        21:20:23   BIC                          -5452.157\n",
       "Sample:                             0   HQIC                         -5492.465\n",
       "                               - 1093                                         \n",
       "Covariance Type:                  opg                                         \n",
       "==============================================================================\n",
       "                 coef    std err          z      P>|z|      [0.025      0.975]\n",
       "------------------------------------------------------------------------------\n",
       "ar.L1         -0.3223      0.170     -1.894      0.058      -0.656       0.011\n",
       "ar.L2          0.2258      0.207      1.091      0.275      -0.180       0.631\n",
       "ar.L3         -0.0318      0.108     -0.294      0.769      -0.244       0.180\n",
       "ar.L4         -0.0654      0.163     -0.402      0.688      -0.385       0.254\n",
       "ar.L5          0.0085      0.112      0.076      0.939      -0.210       0.227\n",
       "ar.L6          0.2515      0.113      2.220      0.026       0.029       0.474\n",
       "ma.L1          0.1165      0.171      0.683      0.495      -0.218       0.451\n",
       "ma.L2         -0.4839      0.209     -2.321      0.020      -0.893      -0.075\n",
       "ma.L3         -0.0751      0.135     -0.556      0.578      -0.340       0.190\n",
       "ma.L4          0.0416      0.173      0.240      0.810      -0.298       0.381\n",
       "ma.L5         -0.1519      0.139     -1.093      0.274      -0.424       0.121\n",
       "ma.L6         -0.4479      0.131     -3.421      0.001      -0.705      -0.191\n",
       "sigma2         0.0004   2.23e-05     15.705      0.000       0.000       0.000\n",
       "===================================================================================\n",
       "Ljung-Box (L1) (Q):                   1.24   Jarque-Bera (JB):             32536.25\n",
       "Prob(Q):                              0.27   Prob(JB):                         0.00\n",
       "Heteroskedasticity (H):               0.31   Skew:                             1.06\n",
       "Prob(H) (two-sided):                  0.00   Kurtosis:                        29.74\n",
       "===================================================================================\n",
       "\n",
       "Warnings:\n",
       "[1] Covariance matrix calculated using the outer product of gradients (complex-step).\n",
       "\"\"\""
      ]
     },
     "execution_count": 184,
     "metadata": {},
     "output_type": "execute_result"
    }
   ],
   "source": [
    "arima_br = sm.tsa.statespace.SARIMAX(LSMMA_train,order=(6, 1, 6),seasonal_order=(0,0,0,0),\n",
    "                                 enforce_stationarity=False, enforce_invertibility=False,).fit()\n",
    "arima_br.summary()"
   ]
  },
  {
   "cell_type": "code",
   "execution_count": 40,
   "metadata": {
    "execution": {
     "iopub.execute_input": "2021-05-20T20:02:53.110699Z",
     "iopub.status.busy": "2021-05-20T20:02:53.110345Z",
     "iopub.status.idle": "2021-05-20T20:02:53.593958Z",
     "shell.execute_reply": "2021-05-20T20:02:53.592455Z",
     "shell.execute_reply.started": "2021-05-20T20:02:53.110670Z"
    }
   },
   "outputs": [
    {
     "data": {
      "image/png": "[encoded data removed]",
      "text/plain": [
       "<Figure size 1080x576 with 2 Axes>"
      ]
     },
     "metadata": {
      "needs_background": "light"
     },
     "output_type": "display_data"
    }
   ],
   "source": [
    "res_br = arima_br.resid\n",
    "fig,ax = plt.subplots(2,1,figsize=(15,8))\n",
    "fig = sm.graphics.tsa.plot_acf(res_br, lags=50, ax=ax[0])\n",
    "fig = sm.graphics.tsa.plot_pacf(res_br, lags=50, ax=ax[1])\n",
    "plt.show()"
   ]
  },
  {
   "cell_type": "code",
   "execution_count": 185,
   "metadata": {
    "execution": {
     "iopub.execute_input": "2021-05-20T21:20:28.428051Z",
     "iopub.status.busy": "2021-05-20T21:20:28.427499Z",
     "iopub.status.idle": "2021-05-20T21:20:28.449698Z",
     "shell.execute_reply": "2021-05-20T21:20:28.448191Z",
     "shell.execute_reply.started": "2021-05-20T21:20:28.428004Z"
    }
   },
   "outputs": [
    {
     "data": {
      "text/plain": [
       "(275,)"
      ]
     },
     "execution_count": 185,
     "metadata": {},
     "output_type": "execute_result"
    }
   ],
   "source": [
    "pred_br = arima_br.forecast(275)\n",
    "pred_br.shape\n",
    "#print('ARIMA model MSE:{}'.format(mean_squared_error(LSMMA_test,pred_br)))"
   ]
  },
  {
   "cell_type": "code",
   "execution_count": 189,
   "metadata": {
    "execution": {
     "iopub.execute_input": "2021-05-20T21:20:52.036114Z",
     "iopub.status.busy": "2021-05-20T21:20:52.035750Z",
     "iopub.status.idle": "2021-05-20T21:20:52.041555Z",
     "shell.execute_reply": "2021-05-20T21:20:52.040137Z",
     "shell.execute_reply.started": "2021-05-20T21:20:52.036082Z"
    }
   },
   "outputs": [],
   "source": [
    "pred_br.reset_index(inplace=True, drop=True)\n",
    "LSMMA_test.reset_index(inplace=True, drop=True)"
   ]
  },
  {
   "cell_type": "code",
   "execution_count": 178,
   "metadata": {
    "execution": {
     "iopub.execute_input": "2021-05-20T21:08:30.930229Z",
     "iopub.status.busy": "2021-05-20T21:08:30.929825Z",
     "iopub.status.idle": "2021-05-20T21:08:30.939444Z",
     "shell.execute_reply": "2021-05-20T21:08:30.938475Z",
     "shell.execute_reply.started": "2021-05-20T21:08:30.930198Z"
    }
   },
   "outputs": [
    {
     "data": {
      "text/plain": [
       "0     -0.094323\n",
       "1     -0.087398\n",
       "2     -0.084200\n",
       "3     -0.084539\n",
       "4     -0.080270\n",
       "         ...   \n",
       "270   -0.078628\n",
       "271   -0.078628\n",
       "272   -0.078628\n",
       "273   -0.078628\n",
       "274   -0.078628\n",
       "Name: predicted_mean, Length: 275, dtype: float64"
      ]
     },
     "execution_count": 178,
     "metadata": {},
     "output_type": "execute_result"
    }
   ],
   "source": [
    "pred_br"
   ]
  },
  {
   "cell_type": "code",
   "execution_count": 172,
   "metadata": {
    "execution": {
     "iopub.execute_input": "2021-05-20T21:06:32.320977Z",
     "iopub.status.busy": "2021-05-20T21:06:32.320543Z",
     "iopub.status.idle": "2021-05-20T21:06:32.328141Z",
     "shell.execute_reply": "2021-05-20T21:06:32.326999Z",
     "shell.execute_reply.started": "2021-05-20T21:06:32.320942Z"
    }
   },
   "outputs": [
    {
     "data": {
      "text/plain": [
       "NoneType"
      ]
     },
     "execution_count": 172,
     "metadata": {},
     "output_type": "execute_result"
    }
   ],
   "source": [
    "LSMMA_test"
   ]
  },
  {
   "cell_type": "code",
   "execution_count": 195,
   "metadata": {
    "execution": {
     "iopub.execute_input": "2021-05-20T21:32:53.417648Z",
     "iopub.status.busy": "2021-05-20T21:32:53.417263Z",
     "iopub.status.idle": "2021-05-20T21:32:53.429660Z",
     "shell.execute_reply": "2021-05-20T21:32:53.428127Z",
     "shell.execute_reply.started": "2021-05-20T21:32:53.417617Z"
    }
   },
   "outputs": [
    {
     "name": "stdout",
     "output_type": "stream",
     "text": [
      "0.000411\n",
      "0.014383\n",
      "0.020270\n",
      "2.373870\n"
     ]
    }
   ],
   "source": [
    "mse = mean_squared_error(LSMMA_test, pred_br)\n",
    "print(f'{mse:.6f}')\n",
    "mae = mean_absolute_error(LSMMA_test, pred_br)\n",
    "print(f'{mae:.6f}')\n",
    "rmse = math.sqrt(mean_squared_error(LSMMA_test, pred_br))\n",
    "print(f'{rmse:.6f}')\n",
    "mape = np.mean(np.abs(pred_br - LSMMA_test)/np.abs(pred_br))\n",
    "print(f'{mape:.6f}')"
   ]
  },
  {
   "cell_type": "code",
   "execution_count": 190,
   "metadata": {
    "execution": {
     "iopub.execute_input": "2021-05-20T21:20:57.060110Z",
     "iopub.status.busy": "2021-05-20T21:20:57.059665Z",
     "iopub.status.idle": "2021-05-20T21:20:57.282464Z",
     "shell.execute_reply": "2021-05-20T21:20:57.281124Z",
     "shell.execute_reply.started": "2021-05-20T21:20:57.060067Z"
    }
   },
   "outputs": [
    {
     "data": {
      "image/png": "[encoded data removed]",
      "text/plain": [
       "<Figure size 720x432 with 1 Axes>"
      ]
     },
     "metadata": {
      "needs_background": "light"
     },
     "output_type": "display_data"
    }
   ],
   "source": [
    "pd.DataFrame({'test':LSMMA_test,'pred':pred_br}).plot();plt.show()"
   ]
  },
  {
   "cell_type": "code",
   "execution_count": 225,
   "metadata": {
    "execution": {
     "iopub.execute_input": "2021-05-20T21:45:46.625397Z",
     "iopub.status.busy": "2021-05-20T21:45:46.624994Z",
     "iopub.status.idle": "2021-05-20T21:45:46.652375Z",
     "shell.execute_reply": "2021-05-20T21:45:46.651351Z",
     "shell.execute_reply.started": "2021-05-20T21:45:46.625367Z"
    }
   },
   "outputs": [],
   "source": [
    "tra_br_exog = br.copy()\n",
    "sc = MinMaxScaler(feature_range=(0,1))\n",
    "#time to split\n",
    "\n",
    "\n",
    "#training_set_scaled = sc.fit_transform(tra_br_D)\n",
    "tra_br_exog_index = tra_br_exog.index.values\n",
    "tra_br_exog_volume = tra_br_exog.Volume.values\n",
    "tra_br_exog_sentiment = tra_br_exog.sentiment.values\n",
    "tra_br_exog_volume = sc.fit_transform(tra_br_exog_volume.reshape(-1, 1))\n",
    "tra_br_exog_sentiment = sc.fit_transform(tra_br_exog_sentiment.reshape(-1, 1))\n",
    "tra_br_exog[['Volume', 'sentiment']] = sc.fit_transform(tra_br_exog[['Volume', 'sentiment']])\n",
    "tra_br_exog.dropna(inplace=True)\n",
    "del tra_br_exog['Close']\n",
    "\n",
    "br_exog = tra_br_exog.copy()\n",
    "\n",
    "train_exog = br_exog[train_start:train_end].dropna()\n",
    "test_exog = br_exog[test_start:test_end].dropna()\n",
    "train_exog.reset_index(inplace=True, drop=True)\n",
    "test_exog.reset_index(inplace=True, drop=True)"
   ]
  },
  {
   "cell_type": "code",
   "execution_count": 230,
   "metadata": {
    "execution": {
     "iopub.execute_input": "2021-05-20T21:46:22.431608Z",
     "iopub.status.busy": "2021-05-20T21:46:22.431225Z",
     "iopub.status.idle": "2021-05-20T21:46:49.137313Z",
     "shell.execute_reply": "2021-05-20T21:46:49.135888Z",
     "shell.execute_reply.started": "2021-05-20T21:46:22.431576Z"
    }
   },
   "outputs": [
    {
     "data": {
      "text/html": [
       "<table class=\"simpletable\">\n",
       "<caption>SARIMAX Results</caption>\n",
       "<tr>\n",
       "  <th>Dep. Variable:</th>                <td>Close</td>              <th>  No. Observations:  </th>   <td>1093</td>   \n",
       "</tr>\n",
       "<tr>\n",
       "  <th>Model:</th>           <td>SARIMAX(6, 1, 6)x(1, 1, [], 12)</td> <th>  Log Likelihood     </th> <td>2595.797</td> \n",
       "</tr>\n",
       "<tr>\n",
       "  <th>Date:</th>                   <td>Thu, 20 May 2021</td>         <th>  AIC                </th> <td>-5159.595</td>\n",
       "</tr>\n",
       "<tr>\n",
       "  <th>Time:</th>                       <td>21:46:49</td>             <th>  BIC                </th> <td>-5080.108</td>\n",
       "</tr>\n",
       "<tr>\n",
       "  <th>Sample:</th>                         <td>0</td>                <th>  HQIC               </th> <td>-5129.473</td>\n",
       "</tr>\n",
       "<tr>\n",
       "  <th></th>                             <td> - 1093</td>             <th>                     </th>     <td> </td>    \n",
       "</tr>\n",
       "<tr>\n",
       "  <th>Covariance Type:</th>               <td>opg</td>               <th>                     </th>     <td> </td>    \n",
       "</tr>\n",
       "</table>\n",
       "<table class=\"simpletable\">\n",
       "<tr>\n",
       "      <td></td>         <th>coef</th>     <th>std err</th>      <th>z</th>      <th>P>|z|</th>  <th>[0.025</th>    <th>0.975]</th>  \n",
       "</tr>\n",
       "<tr>\n",
       "  <th>Volume</th>    <td>    0.0080</td> <td>    0.010</td> <td>    0.833</td> <td> 0.405</td> <td>   -0.011</td> <td>    0.027</td>\n",
       "</tr>\n",
       "<tr>\n",
       "  <th>sentiment</th> <td>   -0.0019</td> <td>    0.001</td> <td>   -1.599</td> <td> 0.110</td> <td>   -0.004</td> <td>    0.000</td>\n",
       "</tr>\n",
       "<tr>\n",
       "  <th>ar.L1</th>     <td>   -0.0100</td> <td>    0.179</td> <td>   -0.056</td> <td> 0.955</td> <td>   -0.361</td> <td>    0.341</td>\n",
       "</tr>\n",
       "<tr>\n",
       "  <th>ar.L2</th>     <td>    0.0870</td> <td>    0.196</td> <td>    0.443</td> <td> 0.658</td> <td>   -0.298</td> <td>    0.472</td>\n",
       "</tr>\n",
       "<tr>\n",
       "  <th>ar.L3</th>     <td>   -0.0613</td> <td>    0.176</td> <td>   -0.348</td> <td> 0.728</td> <td>   -0.406</td> <td>    0.283</td>\n",
       "</tr>\n",
       "<tr>\n",
       "  <th>ar.L4</th>     <td>    0.1077</td> <td>    0.104</td> <td>    1.032</td> <td> 0.302</td> <td>   -0.097</td> <td>    0.312</td>\n",
       "</tr>\n",
       "<tr>\n",
       "  <th>ar.L5</th>     <td>    0.1080</td> <td>    0.083</td> <td>    1.302</td> <td> 0.193</td> <td>   -0.055</td> <td>    0.271</td>\n",
       "</tr>\n",
       "<tr>\n",
       "  <th>ar.L6</th>     <td>    0.0239</td> <td>    0.029</td> <td>    0.817</td> <td> 0.414</td> <td>   -0.033</td> <td>    0.081</td>\n",
       "</tr>\n",
       "<tr>\n",
       "  <th>ma.L1</th>     <td>   -0.1361</td> <td>    0.213</td> <td>   -0.639</td> <td> 0.523</td> <td>   -0.553</td> <td>    0.281</td>\n",
       "</tr>\n",
       "<tr>\n",
       "  <th>ma.L2</th>     <td>   -0.2223</td> <td>    0.226</td> <td>   -0.983</td> <td> 0.326</td> <td>   -0.666</td> <td>    0.221</td>\n",
       "</tr>\n",
       "<tr>\n",
       "  <th>ma.L3</th>     <td>   -0.0254</td> <td>    0.206</td> <td>   -0.123</td> <td> 0.902</td> <td>   -0.430</td> <td>    0.379</td>\n",
       "</tr>\n",
       "<tr>\n",
       "  <th>ma.L4</th>     <td>   -0.2287</td> <td>    0.152</td> <td>   -1.503</td> <td> 0.133</td> <td>   -0.527</td> <td>    0.070</td>\n",
       "</tr>\n",
       "<tr>\n",
       "  <th>ma.L5</th>     <td>   -0.1917</td> <td>    0.122</td> <td>   -1.575</td> <td> 0.115</td> <td>   -0.430</td> <td>    0.047</td>\n",
       "</tr>\n",
       "<tr>\n",
       "  <th>ma.L6</th>     <td>   -0.1951</td> <td>    0.047</td> <td>   -4.147</td> <td> 0.000</td> <td>   -0.287</td> <td>   -0.103</td>\n",
       "</tr>\n",
       "<tr>\n",
       "  <th>ar.S.L12</th>  <td>   -0.4922</td> <td>    0.014</td> <td>  -34.035</td> <td> 0.000</td> <td>   -0.521</td> <td>   -0.464</td>\n",
       "</tr>\n",
       "<tr>\n",
       "  <th>sigma2</th>    <td>    0.0004</td> <td>  5.6e-05</td> <td>    7.849</td> <td> 0.000</td> <td>    0.000</td> <td>    0.001</td>\n",
       "</tr>\n",
       "</table>\n",
       "<table class=\"simpletable\">\n",
       "<tr>\n",
       "  <th>Ljung-Box (L1) (Q):</th>     <td>0.19</td> <th>  Jarque-Bera (JB):  </th> <td>1985.38</td>\n",
       "</tr>\n",
       "<tr>\n",
       "  <th>Prob(Q):</th>                <td>0.67</td> <th>  Prob(JB):          </th>  <td>0.00</td>  \n",
       "</tr>\n",
       "<tr>\n",
       "  <th>Heteroskedasticity (H):</th> <td>0.47</td> <th>  Skew:              </th>  <td>-0.19</td> \n",
       "</tr>\n",
       "<tr>\n",
       "  <th>Prob(H) (two-sided):</th>    <td>0.00</td> <th>  Kurtosis:          </th>  <td>9.69</td>  \n",
       "</tr>\n",
       "</table><br/><br/>Warnings:<br/>[1] Covariance matrix calculated using the outer product of gradients (complex-step)."
      ],
      "text/plain": [
       "<class 'statsmodels.iolib.summary.Summary'>\n",
       "\"\"\"\n",
       "                                      SARIMAX Results                                      \n",
       "===========================================================================================\n",
       "Dep. Variable:                               Close   No. Observations:                 1093\n",
       "Model:             SARIMAX(6, 1, 6)x(1, 1, [], 12)   Log Likelihood                2595.797\n",
       "Date:                             Thu, 20 May 2021   AIC                          -5159.595\n",
       "Time:                                     21:46:49   BIC                          -5080.108\n",
       "Sample:                                          0   HQIC                         -5129.473\n",
       "                                            - 1093                                         \n",
       "Covariance Type:                               opg                                         \n",
       "==============================================================================\n",
       "                 coef    std err          z      P>|z|      [0.025      0.975]\n",
       "------------------------------------------------------------------------------\n",
       "Volume         0.0080      0.010      0.833      0.405      -0.011       0.027\n",
       "sentiment     -0.0019      0.001     -1.599      0.110      -0.004       0.000\n",
       "ar.L1         -0.0100      0.179     -0.056      0.955      -0.361       0.341\n",
       "ar.L2          0.0870      0.196      0.443      0.658      -0.298       0.472\n",
       "ar.L3         -0.0613      0.176     -0.348      0.728      -0.406       0.283\n",
       "ar.L4          0.1077      0.104      1.032      0.302      -0.097       0.312\n",
       "ar.L5          0.1080      0.083      1.302      0.193      -0.055       0.271\n",
       "ar.L6          0.0239      0.029      0.817      0.414      -0.033       0.081\n",
       "ma.L1         -0.1361      0.213     -0.639      0.523      -0.553       0.281\n",
       "ma.L2         -0.2223      0.226     -0.983      0.326      -0.666       0.221\n",
       "ma.L3         -0.0254      0.206     -0.123      0.902      -0.430       0.379\n",
       "ma.L4         -0.2287      0.152     -1.503      0.133      -0.527       0.070\n",
       "ma.L5         -0.1917      0.122     -1.575      0.115      -0.430       0.047\n",
       "ma.L6         -0.1951      0.047     -4.147      0.000      -0.287      -0.103\n",
       "ar.S.L12      -0.4922      0.014    -34.035      0.000      -0.521      -0.464\n",
       "sigma2         0.0004    5.6e-05      7.849      0.000       0.000       0.001\n",
       "===================================================================================\n",
       "Ljung-Box (L1) (Q):                   0.19   Jarque-Bera (JB):              1985.38\n",
       "Prob(Q):                              0.67   Prob(JB):                         0.00\n",
       "Heteroskedasticity (H):               0.47   Skew:                            -0.19\n",
       "Prob(H) (two-sided):                  0.00   Kurtosis:                         9.69\n",
       "===================================================================================\n",
       "\n",
       "Warnings:\n",
       "[1] Covariance matrix calculated using the outer product of gradients (complex-step).\n",
       "\"\"\""
      ]
     },
     "execution_count": 230,
     "metadata": {},
     "output_type": "execute_result"
    }
   ],
   "source": [
    "arima_br = sm.tsa.statespace.SARIMAX(LSMMA_train,order=(6, 1, 6),seasonal_order=(1,1,0,12),exog = train_exog,\n",
    "                                 enforce_stationarity=False, enforce_invertibility=False,).fit()\n",
    "arima_br.summary()"
   ]
  },
  {
   "cell_type": "code",
   "execution_count": 234,
   "metadata": {
    "execution": {
     "iopub.execute_input": "2021-05-20T21:49:31.758014Z",
     "iopub.status.busy": "2021-05-20T21:49:31.757629Z",
     "iopub.status.idle": "2021-05-20T21:49:31.795303Z",
     "shell.execute_reply": "2021-05-20T21:49:31.794041Z",
     "shell.execute_reply.started": "2021-05-20T21:49:31.757980Z"
    }
   },
   "outputs": [
    {
     "data": {
      "text/plain": [
       "(275,)"
      ]
     },
     "execution_count": 234,
     "metadata": {},
     "output_type": "execute_result"
    }
   ],
   "source": [
    "pred_sarimax = arima_br.forecast(275, exog=test_exog)\n",
    "pred_sarimax.shape\n",
    "#print('ARIMA model MSE:{}'.format(mean_squared_error(LSMMA_test,pred_br)))"
   ]
  },
  {
   "cell_type": "code",
   "execution_count": 236,
   "metadata": {
    "execution": {
     "iopub.execute_input": "2021-05-20T21:50:27.219558Z",
     "iopub.status.busy": "2021-05-20T21:50:27.219154Z",
     "iopub.status.idle": "2021-05-20T21:50:27.225082Z",
     "shell.execute_reply": "2021-05-20T21:50:27.223620Z",
     "shell.execute_reply.started": "2021-05-20T21:50:27.219517Z"
    }
   },
   "outputs": [],
   "source": [
    "pred_br.reset_index(inplace=True, drop=True)\n"
   ]
  },
  {
   "cell_type": "code",
   "execution_count": 239,
   "metadata": {
    "execution": {
     "iopub.execute_input": "2021-05-20T21:51:32.182754Z",
     "iopub.status.busy": "2021-05-20T21:51:32.182403Z",
     "iopub.status.idle": "2021-05-20T21:51:32.200177Z",
     "shell.execute_reply": "2021-05-20T21:51:32.198589Z",
     "shell.execute_reply.started": "2021-05-20T21:51:32.182725Z"
    }
   },
   "outputs": [
    {
     "name": "stdout",
     "output_type": "stream",
     "text": [
      "0.004605\n",
      "0.061690\n",
      "0.067861\n",
      "nan\n"
     ]
    }
   ],
   "source": [
    "mse = mean_squared_error(LSMMA_test, pred_sarimax)\n",
    "print(f'{mse:.6f}')\n",
    "mae = mean_absolute_error(LSMMA_test, pred_sarimax)\n",
    "print(f'{mae:.6f}')\n",
    "rmse = math.sqrt(mean_squared_error(LSMMA_test, pred_sarimax))\n",
    "print(f'{rmse:.6f}')\n",
    "mape = np.mean(np.abs(pred_sarimax - LSMMA_test)/np.abs(pred_sarimax))\n",
    "print(f'{mape:.6f}')"
   ]
  },
  {
   "cell_type": "code",
   "execution_count": 235,
   "metadata": {
    "execution": {
     "iopub.execute_input": "2021-05-20T21:49:55.022859Z",
     "iopub.status.busy": "2021-05-20T21:49:55.022418Z",
     "iopub.status.idle": "2021-05-20T21:49:55.033077Z",
     "shell.execute_reply": "2021-05-20T21:49:55.031867Z",
     "shell.execute_reply.started": "2021-05-20T21:49:55.022822Z"
    }
   },
   "outputs": [
    {
     "data": {
      "text/plain": [
       "1093   -0.081834\n",
       "1094   -0.099749\n",
       "1095   -0.093037\n",
       "1096   -0.068517\n",
       "1097   -0.054465\n",
       "          ...   \n",
       "1363   -0.048697\n",
       "1364   -0.050751\n",
       "1365   -0.042889\n",
       "1366   -0.038656\n",
       "1367   -0.042540\n",
       "Name: predicted_mean, Length: 275, dtype: float64"
      ]
     },
     "execution_count": 235,
     "metadata": {},
     "output_type": "execute_result"
    }
   ],
   "source": [
    "pred_sarimax"
   ]
  },
  {
   "cell_type": "code",
   "execution_count": 229,
   "metadata": {
    "execution": {
     "iopub.execute_input": "2021-05-20T21:46:15.268248Z",
     "iopub.status.busy": "2021-05-20T21:46:15.267670Z",
     "iopub.status.idle": "2021-05-20T21:46:15.280303Z",
     "shell.execute_reply": "2021-05-20T21:46:15.279528Z",
     "shell.execute_reply.started": "2021-05-20T21:46:15.268215Z"
    }
   },
   "outputs": [
    {
     "data": {
      "text/html": [
       "<div>\n",
       "<style scoped>\n",
       "    .dataframe tbody tr th:only-of-type {\n",
       "        vertical-align: middle;\n",
       "    }\n",
       "\n",
       "    .dataframe tbody tr th {\n",
       "        vertical-align: top;\n",
       "    }\n",
       "\n",
       "    .dataframe thead th {\n",
       "        text-align: right;\n",
       "    }\n",
       "</style>\n",
       "<table border=\"1\" class=\"dataframe\">\n",
       "  <thead>\n",
       "    <tr style=\"text-align: right;\">\n",
       "      <th></th>\n",
       "      <th>Volume</th>\n",
       "      <th>sentiment</th>\n",
       "    </tr>\n",
       "  </thead>\n",
       "  <tbody>\n",
       "    <tr>\n",
       "      <th>0</th>\n",
       "      <td>0.334334</td>\n",
       "      <td>0.000000</td>\n",
       "    </tr>\n",
       "    <tr>\n",
       "      <th>1</th>\n",
       "      <td>0.174733</td>\n",
       "      <td>1.000000</td>\n",
       "    </tr>\n",
       "    <tr>\n",
       "      <th>2</th>\n",
       "      <td>0.234245</td>\n",
       "      <td>0.000000</td>\n",
       "    </tr>\n",
       "    <tr>\n",
       "      <th>3</th>\n",
       "      <td>0.243013</td>\n",
       "      <td>1.000000</td>\n",
       "    </tr>\n",
       "    <tr>\n",
       "      <th>4</th>\n",
       "      <td>0.193218</td>\n",
       "      <td>0.000000</td>\n",
       "    </tr>\n",
       "    <tr>\n",
       "      <th>...</th>\n",
       "      <td>...</td>\n",
       "      <td>...</td>\n",
       "    </tr>\n",
       "    <tr>\n",
       "      <th>1088</th>\n",
       "      <td>0.066361</td>\n",
       "      <td>0.625000</td>\n",
       "    </tr>\n",
       "    <tr>\n",
       "      <th>1089</th>\n",
       "      <td>0.084132</td>\n",
       "      <td>0.500000</td>\n",
       "    </tr>\n",
       "    <tr>\n",
       "      <th>1090</th>\n",
       "      <td>0.087553</td>\n",
       "      <td>0.000000</td>\n",
       "    </tr>\n",
       "    <tr>\n",
       "      <th>1091</th>\n",
       "      <td>0.121104</td>\n",
       "      <td>0.666667</td>\n",
       "    </tr>\n",
       "    <tr>\n",
       "      <th>1092</th>\n",
       "      <td>0.133642</td>\n",
       "      <td>0.428571</td>\n",
       "    </tr>\n",
       "  </tbody>\n",
       "</table>\n",
       "<p>1093 rows × 2 columns</p>\n",
       "</div>"
      ],
      "text/plain": [
       "        Volume  sentiment\n",
       "0     0.334334   0.000000\n",
       "1     0.174733   1.000000\n",
       "2     0.234245   0.000000\n",
       "3     0.243013   1.000000\n",
       "4     0.193218   0.000000\n",
       "...        ...        ...\n",
       "1088  0.066361   0.625000\n",
       "1089  0.084132   0.500000\n",
       "1090  0.087553   0.000000\n",
       "1091  0.121104   0.666667\n",
       "1092  0.133642   0.428571\n",
       "\n",
       "[1093 rows x 2 columns]"
      ]
     },
     "execution_count": 229,
     "metadata": {},
     "output_type": "execute_result"
    }
   ],
   "source": [
    "train_exog"
   ]
  },
  {
   "cell_type": "code",
   "execution_count": 227,
   "metadata": {
    "execution": {
     "iopub.execute_input": "2021-05-20T21:45:53.803994Z",
     "iopub.status.busy": "2021-05-20T21:45:53.803618Z",
     "iopub.status.idle": "2021-05-20T21:45:53.812037Z",
     "shell.execute_reply": "2021-05-20T21:45:53.810639Z",
     "shell.execute_reply.started": "2021-05-20T21:45:53.803962Z"
    }
   },
   "outputs": [
    {
     "data": {
      "text/plain": [
       "0       0.071468\n",
       "1       0.125435\n",
       "2       0.053071\n",
       "3       0.055704\n",
       "4       0.036621\n",
       "          ...   \n",
       "1088   -0.050769\n",
       "1089   -0.035485\n",
       "1090   -0.032587\n",
       "1091   -0.045574\n",
       "1092   -0.109199\n",
       "Name: Close, Length: 1093, dtype: float64"
      ]
     },
     "execution_count": 227,
     "metadata": {},
     "output_type": "execute_result"
    }
   ],
   "source": [
    "LSMMA_train"
   ]
  },
  {
   "cell_type": "code",
   "execution_count": 216,
   "metadata": {
    "execution": {
     "iopub.execute_input": "2021-05-20T21:44:02.831091Z",
     "iopub.status.busy": "2021-05-20T21:44:02.830718Z",
     "iopub.status.idle": "2021-05-20T21:44:02.836471Z",
     "shell.execute_reply": "2021-05-20T21:44:02.834738Z",
     "shell.execute_reply.started": "2021-05-20T21:44:02.831061Z"
    }
   },
   "outputs": [],
   "source": [
    "train_exog = train_exog[:-2]"
   ]
  },
  {
   "cell_type": "code",
   "execution_count": 231,
   "metadata": {
    "execution": {
     "iopub.execute_input": "2021-05-20T21:48:19.706061Z",
     "iopub.status.busy": "2021-05-20T21:48:19.705612Z",
     "iopub.status.idle": "2021-05-20T21:48:19.715741Z",
     "shell.execute_reply": "2021-05-20T21:48:19.714641Z",
     "shell.execute_reply.started": "2021-05-20T21:48:19.706023Z"
    }
   },
   "outputs": [
    {
     "data": {
      "text/plain": [
       "Date\n",
       "2018-12-26   -0.036260\n",
       "2018-12-27   -0.027169\n",
       "2018-12-28   -0.029235\n",
       "2018-12-31   -0.011980\n",
       "2019-01-02   -0.010106\n",
       "                ...   \n",
       "2020-01-28    0.005432\n",
       "2020-01-29    0.017514\n",
       "2020-01-31    0.026989\n",
       "2020-06-09    0.122678\n",
       "2020-06-10    0.143470\n",
       "Name: Close, Length: 275, dtype: float64"
      ]
     },
     "execution_count": 231,
     "metadata": {},
     "output_type": "execute_result"
    }
   ],
   "source": [
    "LSMMA_test"
   ]
  },
  {
   "cell_type": "code",
   "execution_count": null,
   "metadata": {},
   "outputs": [],
   "source": []
  }
 ],
 "metadata": {
  "kernelspec": {
   "display_name": "Python 3",
   "language": "python",
   "name": "python3"
  },
  "language_info": {
   "codemirror_mode": {
    "name": "ipython",
    "version": 3
   },
   "file_extension": ".py",
   "mimetype": "text/x-python",
   "name": "python",
   "nbconvert_exporter": "python",
   "pygments_lexer": "ipython3",
   "version": "3.7.11"
  }
 },
 "nbformat": 4,
 "nbformat_minor": 4
}
